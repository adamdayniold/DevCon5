{
 "cells": [
  {
   "cell_type": "markdown",
   "metadata": {},
   "source": [
    "## Import libraries"
   ]
  },
  {
   "cell_type": "code",
   "execution_count": 1,
   "metadata": {},
   "outputs": [],
   "source": [
    "import matplotlib.pyplot as plt\n",
    "import ipywidgets as widgets\n",
    "%matplotlib inline\n",
    "\n",
    "from mpl_toolkits.basemap import Basemap\n",
    "from matplotlib import cm\n",
    "\n",
    "import matplotlib.pyplot as plt\n",
    "import seaborn as sns\n",
    "sns.set(style=\"white\", palette=\"muted\", color_codes=True)\n",
    "import pandas as pd\n",
    "pd.options.mode.chained_assignment = None \n",
    "import numpy as np\n",
    "\n",
    "from haversine import haversine\n",
    "from scipy.spatial.distance import euclidean , cityblock\n",
    "from geopy.distance import great_circle\n",
    "from math import *\n",
    "\n",
    "from bokeh.io import output_notebook,show\n",
    "from bokeh.models import HoverTool\n",
    "from bokeh.plotting import figure\n",
    "from bokeh.palettes import Spectral4\n",
    "\n",
    "import folium \n",
    "from folium import plugins\n",
    "from folium.plugins import HeatMap"
   ]
  },
  {
   "cell_type": "code",
   "execution_count": 2,
   "metadata": {},
   "outputs": [
    {
     "data": {
      "text/html": [
       "<div>\n",
       "<style scoped>\n",
       "    .dataframe tbody tr th:only-of-type {\n",
       "        vertical-align: middle;\n",
       "    }\n",
       "\n",
       "    .dataframe tbody tr th {\n",
       "        vertical-align: top;\n",
       "    }\n",
       "\n",
       "    .dataframe thead th {\n",
       "        text-align: right;\n",
       "    }\n",
       "</style>\n",
       "<table border=\"1\" class=\"dataframe\">\n",
       "  <thead>\n",
       "    <tr style=\"text-align: right;\">\n",
       "      <th></th>\n",
       "      <th>Unnamed: 0</th>\n",
       "      <th>id</th>\n",
       "      <th>vendor_id</th>\n",
       "      <th>pickup_datetime</th>\n",
       "      <th>dropoff_datetime</th>\n",
       "      <th>passenger_count</th>\n",
       "      <th>pickup_longitude</th>\n",
       "      <th>pickup_latitude</th>\n",
       "      <th>dropoff_longitude</th>\n",
       "      <th>dropoff_latitude</th>\n",
       "      <th>...</th>\n",
       "      <th>dropoff_dayofyear</th>\n",
       "      <th>dropoff_dt</th>\n",
       "      <th>dropoff_week_hour</th>\n",
       "      <th>haversine_distance</th>\n",
       "      <th>log_haversine_distance</th>\n",
       "      <th>euclidean_distance</th>\n",
       "      <th>manhattan_distance</th>\n",
       "      <th>log_euclidean_distance</th>\n",
       "      <th>log_manhattan_distance</th>\n",
       "      <th>En_store_and_fwd_flag</th>\n",
       "    </tr>\n",
       "  </thead>\n",
       "  <tbody>\n",
       "    <tr>\n",
       "      <th>0</th>\n",
       "      <td>0</td>\n",
       "      <td>id2875421</td>\n",
       "      <td>2</td>\n",
       "      <td>2016-03-14 17:24:55</td>\n",
       "      <td>2016-03-14 17:32:30</td>\n",
       "      <td>1</td>\n",
       "      <td>-73.982155</td>\n",
       "      <td>40.767937</td>\n",
       "      <td>-73.964630</td>\n",
       "      <td>40.765602</td>\n",
       "      <td>...</td>\n",
       "      <td>74</td>\n",
       "      <td>6370139.0</td>\n",
       "      <td>17</td>\n",
       "      <td>1.498521</td>\n",
       "      <td>0.915699</td>\n",
       "      <td>0.017680</td>\n",
       "      <td>0.019859</td>\n",
       "      <td>0.017525</td>\n",
       "      <td>0.019665</td>\n",
       "      <td>0</td>\n",
       "    </tr>\n",
       "    <tr>\n",
       "      <th>1</th>\n",
       "      <td>1</td>\n",
       "      <td>id2377394</td>\n",
       "      <td>1</td>\n",
       "      <td>2016-06-12 00:43:35</td>\n",
       "      <td>2016-06-12 00:54:38</td>\n",
       "      <td>1</td>\n",
       "      <td>-73.980415</td>\n",
       "      <td>40.738564</td>\n",
       "      <td>-73.999481</td>\n",
       "      <td>40.731152</td>\n",
       "      <td>...</td>\n",
       "      <td>164</td>\n",
       "      <td>14086267.0</td>\n",
       "      <td>144</td>\n",
       "      <td>1.805507</td>\n",
       "      <td>1.031584</td>\n",
       "      <td>0.020456</td>\n",
       "      <td>0.026478</td>\n",
       "      <td>0.020249</td>\n",
       "      <td>0.026133</td>\n",
       "      <td>0</td>\n",
       "    </tr>\n",
       "    <tr>\n",
       "      <th>2</th>\n",
       "      <td>2</td>\n",
       "      <td>id3858529</td>\n",
       "      <td>2</td>\n",
       "      <td>2016-01-19 11:35:24</td>\n",
       "      <td>2016-01-19 12:10:48</td>\n",
       "      <td>1</td>\n",
       "      <td>-73.979027</td>\n",
       "      <td>40.763939</td>\n",
       "      <td>-74.005333</td>\n",
       "      <td>40.710087</td>\n",
       "      <td>...</td>\n",
       "      <td>19</td>\n",
       "      <td>1598837.0</td>\n",
       "      <td>36</td>\n",
       "      <td>6.385098</td>\n",
       "      <td>1.999464</td>\n",
       "      <td>0.059934</td>\n",
       "      <td>0.080158</td>\n",
       "      <td>0.058206</td>\n",
       "      <td>0.077108</td>\n",
       "      <td>0</td>\n",
       "    </tr>\n",
       "    <tr>\n",
       "      <th>3</th>\n",
       "      <td>3</td>\n",
       "      <td>id3504673</td>\n",
       "      <td>2</td>\n",
       "      <td>2016-04-06 19:32:31</td>\n",
       "      <td>2016-04-06 19:39:40</td>\n",
       "      <td>1</td>\n",
       "      <td>-74.010040</td>\n",
       "      <td>40.719971</td>\n",
       "      <td>-74.012268</td>\n",
       "      <td>40.706718</td>\n",
       "      <td>...</td>\n",
       "      <td>97</td>\n",
       "      <td>8364969.0</td>\n",
       "      <td>67</td>\n",
       "      <td>1.485498</td>\n",
       "      <td>0.910473</td>\n",
       "      <td>0.013438</td>\n",
       "      <td>0.015480</td>\n",
       "      <td>0.013349</td>\n",
       "      <td>0.015361</td>\n",
       "      <td>0</td>\n",
       "    </tr>\n",
       "    <tr>\n",
       "      <th>4</th>\n",
       "      <td>4</td>\n",
       "      <td>id2181028</td>\n",
       "      <td>2</td>\n",
       "      <td>2016-03-26 13:30:55</td>\n",
       "      <td>2016-03-26 13:38:10</td>\n",
       "      <td>1</td>\n",
       "      <td>-73.973053</td>\n",
       "      <td>40.793209</td>\n",
       "      <td>-73.972923</td>\n",
       "      <td>40.782520</td>\n",
       "      <td>...</td>\n",
       "      <td>86</td>\n",
       "      <td>7392879.0</td>\n",
       "      <td>133</td>\n",
       "      <td>1.188588</td>\n",
       "      <td>0.783257</td>\n",
       "      <td>0.010690</td>\n",
       "      <td>0.010818</td>\n",
       "      <td>0.010633</td>\n",
       "      <td>0.010760</td>\n",
       "      <td>0</td>\n",
       "    </tr>\n",
       "  </tbody>\n",
       "</table>\n",
       "<p>5 rows × 40 columns</p>\n",
       "</div>"
      ],
      "text/plain": [
       "   Unnamed: 0         id  vendor_id      pickup_datetime     dropoff_datetime  \\\n",
       "0           0  id2875421          2  2016-03-14 17:24:55  2016-03-14 17:32:30   \n",
       "1           1  id2377394          1  2016-06-12 00:43:35  2016-06-12 00:54:38   \n",
       "2           2  id3858529          2  2016-01-19 11:35:24  2016-01-19 12:10:48   \n",
       "3           3  id3504673          2  2016-04-06 19:32:31  2016-04-06 19:39:40   \n",
       "4           4  id2181028          2  2016-03-26 13:30:55  2016-03-26 13:38:10   \n",
       "\n",
       "   passenger_count  pickup_longitude  pickup_latitude  dropoff_longitude  \\\n",
       "0                1        -73.982155        40.767937         -73.964630   \n",
       "1                1        -73.980415        40.738564         -73.999481   \n",
       "2                1        -73.979027        40.763939         -74.005333   \n",
       "3                1        -74.010040        40.719971         -74.012268   \n",
       "4                1        -73.973053        40.793209         -73.972923   \n",
       "\n",
       "   dropoff_latitude          ...           dropoff_dayofyear  dropoff_dt  \\\n",
       "0         40.765602          ...                          74   6370139.0   \n",
       "1         40.731152          ...                         164  14086267.0   \n",
       "2         40.710087          ...                          19   1598837.0   \n",
       "3         40.706718          ...                          97   8364969.0   \n",
       "4         40.782520          ...                          86   7392879.0   \n",
       "\n",
       "  dropoff_week_hour  haversine_distance  log_haversine_distance  \\\n",
       "0                17            1.498521                0.915699   \n",
       "1               144            1.805507                1.031584   \n",
       "2                36            6.385098                1.999464   \n",
       "3                67            1.485498                0.910473   \n",
       "4               133            1.188588                0.783257   \n",
       "\n",
       "   euclidean_distance  manhattan_distance  log_euclidean_distance  \\\n",
       "0            0.017680            0.019859                0.017525   \n",
       "1            0.020456            0.026478                0.020249   \n",
       "2            0.059934            0.080158                0.058206   \n",
       "3            0.013438            0.015480                0.013349   \n",
       "4            0.010690            0.010818                0.010633   \n",
       "\n",
       "   log_manhattan_distance  En_store_and_fwd_flag  \n",
       "0                0.019665                      0  \n",
       "1                0.026133                      0  \n",
       "2                0.077108                      0  \n",
       "3                0.015361                      0  \n",
       "4                0.010760                      0  \n",
       "\n",
       "[5 rows x 40 columns]"
      ]
     },
     "execution_count": 2,
     "metadata": {},
     "output_type": "execute_result"
    }
   ],
   "source": [
    "data = pd.read_csv('Dataset/Large NYC.csv')\n",
    "\n",
    "data.head()"
   ]
  },
  {
   "cell_type": "code",
   "execution_count": 3,
   "metadata": {
    "slideshow": {
     "slide_type": "-"
    }
   },
   "outputs": [
    {
     "data": {
      "application/vnd.jupyter.widget-view+json": {
       "model_id": "31385d2b02d845b18379944b22f80490",
       "version_major": 2,
       "version_minor": 0
      },
      "text/html": [
       "<p>Failed to display Jupyter Widget of type <code>ToggleButtons</code>.</p>\n",
       "<p>\n",
       "  If you're reading this message in the Jupyter Notebook or JupyterLab Notebook, it may mean\n",
       "  that the widgets JavaScript is still loading. If this message persists, it\n",
       "  likely means that the widgets JavaScript library is either not installed or\n",
       "  not enabled. See the <a href=\"https://ipywidgets.readthedocs.io/en/stable/user_install.html\">Jupyter\n",
       "  Widgets Documentation</a> for setup instructions.\n",
       "</p>\n",
       "<p>\n",
       "  If you're reading this message in another frontend (for example, a static\n",
       "  rendering on GitHub or <a href=\"https://nbviewer.jupyter.org/\">NBViewer</a>),\n",
       "  it may mean that your frontend doesn't currently support widgets.\n",
       "</p>\n"
      ],
      "text/plain": [
       "ToggleButtons(button_style='info', description='Step:', options=('Data Gathering', 'Preprocessing', 'Features Engineering', 'Features Selection', 'Training', 'Evaluation', 'Deployment'), tooltips=['Description of slow', 'Description of regular', 'Description of fast'], value='Data Gathering')"
      ]
     },
     "metadata": {},
     "output_type": "display_data"
    }
   ],
   "source": [
    "widgets.ToggleButtons(\n",
    "    options=['Data Gathering', 'Preprocessing', 'Features Engineering', 'Features Selection', 'Training', 'Evaluation', 'Deployment'],\n",
    "    description='Step:',\n",
    "    disabled=False,\n",
    "    button_style='info', # 'success', 'info', 'warning', 'danger' or ''\n",
    "    tooltips=['Description of slow', 'Description of regular', 'Description of fast'],\n",
    "     icons=['check'] * 0\n",
    ")"
   ]
  },
  {
   "cell_type": "code",
   "execution_count": 4,
   "metadata": {},
   "outputs": [
    {
     "name": "stdout",
     "output_type": "stream",
     "text": [
      "<class 'pandas.core.frame.DataFrame'>\n",
      "RangeIndex: 1458644 entries, 0 to 1458643\n",
      "Data columns (total 40 columns):\n",
      "Unnamed: 0                1458644 non-null int64\n",
      "id                        1458644 non-null object\n",
      "vendor_id                 1458644 non-null int64\n",
      "pickup_datetime           1458644 non-null object\n",
      "dropoff_datetime          1458644 non-null object\n",
      "passenger_count           1458644 non-null int64\n",
      "pickup_longitude          1458644 non-null float64\n",
      "pickup_latitude           1458644 non-null float64\n",
      "dropoff_longitude         1458644 non-null float64\n",
      "dropoff_latitude          1458644 non-null float64\n",
      "store_and_fwd_flag        1458644 non-null object\n",
      "trip_duration             1458644 non-null int64\n",
      "pickup_date               1458644 non-null object\n",
      "pickup_day                1458644 non-null int64\n",
      "pickup_month              1458644 non-null int64\n",
      "pickup_weekday            1458644 non-null int64\n",
      "pickup_weekofyear         1458644 non-null int64\n",
      "pickup_hour               1458644 non-null int64\n",
      "pickup_minute             1458644 non-null int64\n",
      "pickup_dayofyear          1458644 non-null int64\n",
      "pickup_dt                 1458644 non-null float64\n",
      "pickup_week_hour          1458644 non-null int64\n",
      "log_trip_duration         1458644 non-null float64\n",
      "dropoff_date              1458644 non-null object\n",
      "dropoff_day               1458644 non-null int64\n",
      "dropoff_month             1458644 non-null int64\n",
      "dropoff_weekday           1458644 non-null int64\n",
      "dropoff_weekofyear        1458644 non-null int64\n",
      "dropoff_hour              1458644 non-null int64\n",
      "dropoff_minute            1458644 non-null int64\n",
      "dropoff_dayofyear         1458644 non-null int64\n",
      "dropoff_dt                1458644 non-null float64\n",
      "dropoff_week_hour         1458644 non-null int64\n",
      "haversine_distance        1458644 non-null float64\n",
      "log_haversine_distance    1458644 non-null float64\n",
      "euclidean_distance        1458644 non-null float64\n",
      "manhattan_distance        1458644 non-null float64\n",
      "log_euclidean_distance    1458644 non-null float64\n",
      "log_manhattan_distance    1458644 non-null float64\n",
      "En_store_and_fwd_flag     1458644 non-null int64\n",
      "dtypes: float64(13), int64(21), object(6)\n",
      "memory usage: 445.1+ MB\n"
     ]
    }
   ],
   "source": [
    "data.info()"
   ]
  },
  {
   "cell_type": "code",
   "execution_count": 5,
   "metadata": {},
   "outputs": [
    {
     "data": {
      "text/plain": [
       "RandomForestRegressor(bootstrap=True, criterion='mse', max_depth=None,\n",
       "           max_features='auto', max_leaf_nodes=None,\n",
       "           min_impurity_decrease=0.0, min_impurity_split=None,\n",
       "           min_samples_leaf=15, min_samples_split=7,\n",
       "           min_weight_fraction_leaf=0.0, n_estimators=10, n_jobs=1,\n",
       "           oob_score=False, random_state=None, verbose=0, warm_start=False)"
      ]
     },
     "execution_count": 5,
     "metadata": {},
     "output_type": "execute_result"
    }
   ],
   "source": [
    "from sklearn.ensemble import RandomForestRegressor\n",
    "from sklearn.model_selection import train_test_split\n",
    "\n",
    "rf_model = RandomForestRegressor(n_estimators=10, min_samples_leaf=15, min_samples_split=7)\n",
    "\n",
    "target = data.log_trip_duration.values\n",
    "data = data.drop(['Unnamed: 0', 'id', 'trip_duration', 'log_trip_duration', 'pickup_datetime', 'dropoff_date',\n",
    "                 'store_and_fwd_flag', 'dropoff_datetime', 'pickup_date'], axis=1)\n",
    "\n",
    "X_train, X_test, y_train, y_test = train_test_split(data, target, test_size=0.30, random_state=42)\n",
    "\n",
    "rf_model.fit(X_train, y_train)\n"
   ]
  },
  {
   "cell_type": "code",
   "execution_count": 7,
   "metadata": {},
   "outputs": [
    {
     "data": {
      "image/png": "[encoded data removed]",
      "text/plain": [
       "<Figure size 720x720 with 1 Axes>"
      ]
     },
     "metadata": {},
     "output_type": "display_data"
    }
   ],
   "source": [
    "importances=rf_model.feature_importances_\n",
    "\n",
    "predictors = data.columns\n",
    "std = np.std([rf_model.feature_importances_ for tree in rf_model.estimators_],\n",
    "             axis=0)\n",
    "indices = np.argsort(importances)[::-1]\n",
    "sorted_important_features=[]\n",
    "for i in indices:\n",
    "    sorted_important_features.append(predictors[i])\n",
    "plt.figure(figsize=(10,10))\n",
    "plt.title(\"Feature Importances By Random Forest\")\n",
    "plt.barh(range(len(indices)), importances[indices],\n",
    "       color=[\"green\",\"red\"], yerr=std[indices], align=\"center\")\n",
    "plt.yticks(range(len(indices)), sorted_important_features, rotation='horizontal');"
   ]
  },
  {
   "cell_type": "code",
   "execution_count": 8,
   "metadata": {},
   "outputs": [
    {
     "name": "stdout",
     "output_type": "stream",
     "text": [
      "log_euclidean_distance 0.00830740304342\n",
      "euclidean_distance 0.00162348851616\n",
      "log_haversine_distance 0.0184231135218\n",
      "haversine_distance 0.0153588019538\n",
      "dropoff_latitude 0.0197159246423\n",
      "dropoff_hour 0.0377965428005\n",
      "pickup_hour 0.00235960180433\n",
      "dropoff_longitude 6.8628052917e-05\n",
      "pickup_longitude 0.00337525045542\n",
      "pickup_latitude 0.000765150130553\n",
      "dropoff_minute 0.0260041712691\n",
      "pickup_minute 0.0119407085827\n",
      "pickup_week_hour 0.000882019784876\n",
      "dropoff_week_hour 0.00354015344706\n",
      "vendor_id 0.00985064586969\n",
      "manhattan_distance 0.00244510655147\n",
      "log_manhattan_distance 7.56668068369e-05\n",
      "dropoff_dt 0.00249845919575\n",
      "pickup_dt 0.000845951096023\n",
      "pickup_weekday 0.0288584292021\n",
      "dropoff_weekday 0.0121485878579\n",
      "dropoff_day 0.000870701070068\n",
      "pickup_day 0.00511578161452\n",
      "passenger_count 0.00955073816503\n",
      "pickup_dayofyear 0.0379438004489\n",
      "dropoff_dayofyear 0.0756149520673\n",
      "dropoff_weekofyear 0.322973290357\n",
      "pickup_weekofyear 0.00789039480202\n",
      "dropoff_month 0.326942421175\n",
      "pickup_month 0.00621411571513\n",
      "En_store_and_fwd_flag 0.0\n"
     ]
    }
   ],
   "source": [
    "# Let's print the importance score for each attribute\n",
    "\n",
    "for i,e in zip(sorted_important_features, importances):\n",
    "    print(i, e)"
   ]
  },
  {
   "cell_type": "markdown",
   "metadata": {},
   "source": [
    "# Modeling"
   ]
  },
  {
   "cell_type": "markdown",
   "metadata": {},
   "source": [
    "## Linear Regression"
   ]
  },
  {
   "cell_type": "code",
   "execution_count": 9,
   "metadata": {},
   "outputs": [],
   "source": [
    "import pickle \n",
    "from sklearn import linear_model \n",
    "import sklearn.metrics as sm \n",
    "\n",
    "# Create linear regressor object \n",
    "regressor = linear_model.LinearRegression() \n",
    " \n",
    "# Train the model using the training sets \n",
    "regressor.fit(X_train, y_train) \n",
    "\n",
    "# Predict the output \n",
    "y_test_pred = regressor.predict(X_test) \n"
   ]
  },
  {
   "cell_type": "markdown",
   "metadata": {},
   "source": [
    "### Performance Analysis and Model Evaluation"
   ]
  },
  {
   "cell_type": "code",
   "execution_count": 10,
   "metadata": {},
   "outputs": [
    {
     "name": "stdout",
     "output_type": "stream",
     "text": [
      "Linear regressor performance:\n",
      "Mean absolute error = 0.35\n",
      "Mean squared error = 0.23\n",
      "Median absolute error = 0.27\n",
      "Explain variance score = 0.64\n",
      "R2 score = 0.64\n"
     ]
    }
   ],
   "source": [
    "# Compute performance metrics \n",
    "print(\"Linear regressor performance:\") \n",
    "print(\"Mean absolute error =\", round(sm.mean_absolute_error(y_test, y_test_pred), 2)) \n",
    "print(\"Mean squared error =\", round(sm.mean_squared_error(y_test, y_test_pred), 2))  \n",
    "print(\"Median absolute error =\", round(sm.median_absolute_error(y_test, y_test_pred), 2))  \n",
    "print(\"Explain variance score =\", round(sm.explained_variance_score(y_test, y_test_pred), 2)) \n",
    "print(\"R2 score =\", round(sm.r2_score(y_test, y_test_pred), 2)) \n"
   ]
  },
  {
   "cell_type": "markdown",
   "metadata": {},
   "source": [
    "# Advanced Feature Selection"
   ]
  },
  {
   "cell_type": "markdown",
   "metadata": {},
   "source": [
    "1. Recursive Feature Elemination\n",
    "2. Features importance."
   ]
  },
  {
   "cell_type": "markdown",
   "metadata": {},
   "source": [
    "## Recursive Feature Elimination"
   ]
  },
  {
   "cell_type": "code",
   "execution_count": 11,
   "metadata": {},
   "outputs": [
    {
     "name": "stdout",
     "output_type": "stream",
     "text": [
      "[False  True  True  True]\n",
      "[2 1 1 1]\n"
     ]
    }
   ],
   "source": [
    "from sklearn import datasets\n",
    "from sklearn.feature_selection import RFE\n",
    "from sklearn.linear_model import LogisticRegression\n",
    "# load the iris datasets\n",
    "dataset = datasets.load_iris()\n",
    "# create a base classifier used to evaluate a subset of attributes\n",
    "model = LogisticRegression()\n",
    "# create the RFE model and select 3 attributes\n",
    "rfe = RFE(model, 3)\n",
    "rfe = rfe.fit(dataset.data, dataset.target)\n",
    "# summarize the selection of the attributes\n",
    "print(rfe.support_)\n",
    "print(rfe.ranking_)"
   ]
  },
  {
   "cell_type": "code",
   "execution_count": 12,
   "metadata": {},
   "outputs": [
    {
     "name": "stdout",
     "output_type": "stream",
     "text": [
      "[ True  True  True  True  True False False False False False]\n",
      "[1 1 1 1 1 6 4 3 2 5]\n"
     ]
    }
   ],
   "source": [
    "from sklearn.datasets import make_friedman1\n",
    "from sklearn.feature_selection import RFE\n",
    "from sklearn.svm import SVR\n",
    "\n",
    "X, y = make_friedman1(n_samples=50, n_features=10, random_state=0)\n",
    "estimator = SVR(kernel=\"linear\")\n",
    "selector = RFE(estimator, 5, step=1)\n",
    "selector = selector.fit(X, y)\n",
    "\n",
    "print(selector.support_ )\n",
    "print(selector.ranking_)"
   ]
  },
  {
   "cell_type": "markdown",
   "metadata": {},
   "source": [
    "## Feature Importance"
   ]
  },
  {
   "cell_type": "code",
   "execution_count": 13,
   "metadata": {},
   "outputs": [
    {
     "name": "stdout",
     "output_type": "stream",
     "text": [
      "[ 0.07943851  0.02466577  0.3149003   0.58099542]\n"
     ]
    }
   ],
   "source": [
    "# Feature Importance\n",
    "from sklearn import datasets\n",
    "from sklearn import metrics\n",
    "from sklearn.ensemble import ExtraTreesClassifier\n",
    "# load the iris datasets\n",
    "dataset = datasets.load_iris()\n",
    "# fit an Extra Trees model to the data\n",
    "model = ExtraTreesClassifier()\n",
    "model.fit(dataset.data, dataset.target)\n",
    "# display the relative importance of each attribute\n",
    "print(model.feature_importances_)"
   ]
  },
  {
   "cell_type": "code",
   "execution_count": null,
   "metadata": {},
   "outputs": [],
   "source": []
  },
  {
   "cell_type": "code",
   "execution_count": null,
   "metadata": {},
   "outputs": [],
   "source": []
  }
 ],
 "metadata": {
  "kernelspec": {
   "display_name": "Python 3",
   "language": "python",
   "name": "python3"
  },
  "language_info": {
   "codemirror_mode": {
    "name": "ipython",
    "version": 3
   },
   "file_extension": ".py",
   "mimetype": "text/x-python",
   "name": "python",
   "nbconvert_exporter": "python",
   "pygments_lexer": "ipython3",
   "version": "3.5.5"
  }
 },
 "nbformat": 4,
 "nbformat_minor": 2
}
